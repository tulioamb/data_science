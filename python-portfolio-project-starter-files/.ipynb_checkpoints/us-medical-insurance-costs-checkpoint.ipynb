{
 "cells": [
  {
   "cell_type": "markdown",
   "metadata": {},
   "source": [
    "# U.S. Medical Insurance Costs"
   ]
  },
  {
   "cell_type": "code",
   "execution_count": 149,
   "metadata": {},
   "outputs": [],
   "source": [
    "import csv\n",
    "\n",
    "individuals_dict = {}\n",
    "i = 0\n",
    "\n",
    "with open('insurance.csv') as raw_data:\n",
    "    initial_data = csv.DictReader(raw_data)\n",
    "    for initial_data_row in initial_data:\n",
    "        individuals_dict.update({'Individual {}'.format(i): initial_data_row})\n",
    "        i += 1\n"
   ]
  },
  {
   "cell_type": "code",
   "execution_count": 40,
   "metadata": {},
   "outputs": [
    {
     "name": "stdout",
     "output_type": "stream",
     "text": [
      "Mean BMI of male individuals: 30.9\n",
      "Mean BMI of female individuals: 30.4\n",
      "Number of male individuals: 676\n",
      "Number of female individuals: 662\n"
     ]
    }
   ],
   "source": [
    "# Find any particular feature comparing bmis of male and female individuals\n",
    "\n",
    "male_avg_bmi = 0\n",
    "male_counter = 0\n",
    "female_avg_bmi = 0\n",
    "female_counter = 0\n",
    "\n",
    "for item in individuals_dict.values():\n",
    "    if item['sex'] == 'male':\n",
    "        male_avg_bmi += float(item['bmi'])\n",
    "        male_counter += 1\n",
    "    else:\n",
    "        female_avg_bmi += float(item['bmi'])\n",
    "        female_counter += 1\n",
    "        \n",
    "male_avg_bmi /= male_counter\n",
    "female_avg_bmi /= female_counter\n",
    "print('Mean BMI of male individuals:', round(male_avg_bmi, 1))\n",
    "print('Mean BMI of female individuals:', round(female_avg_bmi, 1))\n",
    "print('Number of male individuals:', male_counter)\n",
    "print('Number of female individuals:', female_counter)"
   ]
  },
  {
   "cell_type": "code",
   "execution_count": 41,
   "metadata": {},
   "outputs": [
    {
     "name": "stdout",
     "output_type": "stream",
     "text": [
      "Mean age of the population: 39.2\n",
      "Mean age of the smoker individuals: 38.5\n",
      "Number of smokers: 274\n"
     ]
    }
   ],
   "source": [
    "# Smokers tend to be older people?\n",
    "\n",
    "mean_smokers_age = 0\n",
    "smokers_counter = 0\n",
    "mean_total_age = 0\n",
    "for item in individuals_dict.values():\n",
    "    mean_total_age += float(item['age'])\n",
    "    if item['smoker'] == 'yes':\n",
    "        mean_smokers_age += float(item['age'])\n",
    "        smokers_counter += 1\n",
    "        \n",
    "mean_total_age /= len(individuals_dict)\n",
    "mean_smokers_age /= smokers_counter\n",
    "\n",
    "print('Mean age of the population:', round(mean_total_age, 1))\n",
    "print('Mean age of the smoker individuals:', round(mean_smokers_age, 1))\n",
    "print('Number of smokers:', smokers_counter)"
   ]
  },
  {
   "cell_type": "code",
   "execution_count": 153,
   "metadata": {},
   "outputs": [
    {
     "name": "stdout",
     "output_type": "stream",
     "text": [
      "64\n",
      "18\n"
     ]
    }
   ],
   "source": [
    "# Rank individuals by ages, 5 to 5 years\n",
    "\n",
    "for item in individuals_dict.values():\n",
    "#     print(item['age'])\n",
    "    ages.append(item['age'])\n",
    "\n",
    "print(max(ages))\n",
    "print(min(ages))"
   ]
  },
  {
   "cell_type": "code",
   "execution_count": 115,
   "metadata": {},
   "outputs": [
    {
     "name": "stdout",
     "output_type": "stream",
     "text": [
      "Regions and number of clients: {'southwest': 325, 'southeast': 364, 'northwest': 325, 'northeast': 324}\n",
      "Region with largest number of medical insurance clients: {'southwest': 325}\n"
     ]
    }
   ],
   "source": [
    "# Find which region has the most clients for medical insurance\n",
    "regions = {}\n",
    "for item in individuals_dict.values():\n",
    "    if not item['region'] in regions:\n",
    "        regions.update({item['region']: 1})\n",
    "    else:\n",
    "        regions[item['region']] += 1\n",
    "        \n",
    "most_clients_region = {max(regions): regions[max(regions)]}\n",
    "print('Regions and number of clients:', regions)\n",
    "print('Region with largest number of medical insurance clients:' ,most_clients_region)"
   ]
  },
  {
   "cell_type": "code",
   "execution_count": 108,
   "metadata": {},
   "outputs": [],
   "source": [
    "# TEST AREA\n",
    "# print(max(ages_list))\n",
    "# print(sex_list)\n",
    "# print(bmis_list)\n",
    "# print(children_list)\n",
    "# print(smokers_list)\n",
    "# print(regions_list)\n",
    "# print(charges_list)\n",
    "# print(len(individuals_dict))\n",
    "# for k in individuals_dict.values():\n",
    "#     print(k)"
   ]
  }
 ],
 "metadata": {
  "kernelspec": {
   "display_name": "Python 3 (ipykernel)",
   "language": "python",
   "name": "python3"
  },
  "language_info": {
   "codemirror_mode": {
    "name": "ipython",
    "version": 3
   },
   "file_extension": ".py",
   "mimetype": "text/x-python",
   "name": "python",
   "nbconvert_exporter": "python",
   "pygments_lexer": "ipython3",
   "version": "3.9.12"
  }
 },
 "nbformat": 4,
 "nbformat_minor": 4
}
